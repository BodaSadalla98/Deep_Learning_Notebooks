{
  "nbformat": 4,
  "nbformat_minor": 0,
  "metadata": {
    "colab": {
      "name": "YOLO5_object_detection.ipynb",
      "provenance": [],
      "authorship_tag": "ABX9TyOK79ZODCfGF/0CvuiOJ9Bc",
      "include_colab_link": true
    },
    "kernelspec": {
      "name": "python3",
      "display_name": "Python 3"
    },
    "language_info": {
      "name": "python"
    }
  },
  "cells": [
    {
      "cell_type": "markdown",
      "metadata": {
        "id": "view-in-github",
        "colab_type": "text"
      },
      "source": [
        "<a href=\"https://colab.research.google.com/github/BodaSadalla98/Deep_Learning_Notebooks/blob/main/YOLO5_object_detection.ipynb\" target=\"_parent\"><img src=\"https://colab.research.google.com/assets/colab-badge.svg\" alt=\"Open In Colab\"/></a>"
      ]
    },
    {
      "cell_type": "markdown",
      "metadata": {
        "id": "Zmi8oj3erdEb"
      },
      "source": [
        "YOLO5 Object Detection\n",
        "=========================\n",
        "\n",
        "In this note book we will do object detection using YOLO5, trained on a custom dataset\n",
        "\n",
        "This is inspired by Venelin Valkov videos here\n",
        "https://www.youtube.com/watch?v=NsxDrEJTgRw\n"
      ]
    },
    {
      "cell_type": "markdown",
      "metadata": {
        "id": "bgheb0nqruVQ"
      },
      "source": [
        "Dataset \n",
        "=========\n",
        "\n"
      ]
    },
    {
      "cell_type": "code",
      "metadata": {
        "id": "BlVskN4XsJVs"
      },
      "source": [
        ""
      ],
      "execution_count": null,
      "outputs": []
    }
  ]
}